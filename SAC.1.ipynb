{
 "cells": [
  {
   "cell_type": "code",
   "execution_count": 2,
   "id": "ff1f7fe5-d907-45b9-999f-e7e22c97e985",
   "metadata": {},
   "outputs": [
    {
     "name": "stdout",
     "output_type": "stream",
     "text": [
      "<class 'int'>\n",
      "<class 'str'>\n"
     ]
    }
   ],
   "source": [
    "x=5\n",
    "y=\"AI-B\"\n",
    "print(type(x))\n",
    "print(type(y))\n"
   ]
  },
  {
   "cell_type": "code",
   "execution_count": 3,
   "id": "0224eb14-6566-4f62-9d1e-d104e37d4524",
   "metadata": {},
   "outputs": [
    {
     "name": "stdout",
     "output_type": "stream",
     "text": [
      "awesome\n",
      "good\n",
      "<class 'str'>\n",
      "<class 'str'>\n",
      "<class 'str'>\n"
     ]
    }
   ],
   "source": [
    "x=\"awesome\"\n",
    "print(x)\n",
    "y=\"good\"\n",
    "print(y)\n",
    "z='a'\n",
    "print(type(x))\n",
    "print(type(y))\n",
    "print(type(z))\n"
   ]
  },
  {
   "cell_type": "code",
   "execution_count": 7,
   "id": "7333bdc1-853f-4aad-bf5c-459595395493",
   "metadata": {},
   "outputs": [
    {
     "name": "stdout",
     "output_type": "stream",
     "text": [
      "4\n",
      "List\n"
     ]
    }
   ],
   "source": [
    "a=4\n",
    "A=\"List\"\n",
    "print(a)\n",
    "print(A)\n"
   ]
  },
  {
   "cell_type": "code",
   "execution_count": 9,
   "id": "dd1607bf-046e-4f88-8fa7-f905bc5301cd",
   "metadata": {},
   "outputs": [
    {
     "name": "stdout",
     "output_type": "stream",
     "text": [
      "PYTHON\n",
      "PYTHON\n",
      "PYTHON\n"
     ]
    }
   ],
   "source": [
    "x=y=z=\"PYTHON\"\n",
    "print(x)\n",
    "print(y)\n",
    "print(z)\n"
   ]
  },
  {
   "cell_type": "code",
   "execution_count": 11,
   "id": "5f357f9f-38eb-4e3f-a0f8-bee8f5701c43",
   "metadata": {},
   "outputs": [
    {
     "name": "stdout",
     "output_type": "stream",
     "text": [
      "SAC\n",
      "DBMS\n",
      "SEC-IOT\n"
     ]
    }
   ],
   "source": [
    "x,y,z=\"SAC\",\"DBMS\",\"SEC-IOT\"\n",
    "print(x)\n",
    "print(y)\n",
    "print(z)\n",
    "\n"
   ]
  },
  {
   "cell_type": "code",
   "execution_count": 13,
   "id": "a8a7345a-1431-44cc-b9a3-32b2caa57edf",
   "metadata": {},
   "outputs": [
    {
     "name": "stdout",
     "output_type": "stream",
     "text": [
      "python is awesome\n"
     ]
    }
   ],
   "source": [
    "x=\"python\"\n",
    "y=\"is\"\n",
    "z=\"awesome\"\n",
    "print(x,y,z)"
   ]
  },
  {
   "cell_type": "code",
   "execution_count": 14,
   "id": "4e33d643-e70d-473c-ad46-1c264a4c949e",
   "metadata": {},
   "outputs": [
    {
     "name": "stdout",
     "output_type": "stream",
     "text": [
      "<class 'int'>\n",
      "<class 'float'>\n"
     ]
    }
   ],
   "source": [
    "x=5\n",
    "print(type(x))\n",
    "y=5.5\n",
    "print(type(y))\n"
   ]
  }
 ],
 "metadata": {
  "kernelspec": {
   "display_name": "Python [conda env:base] *",
   "language": "python",
   "name": "conda-base-py"
  },
  "language_info": {
   "codemirror_mode": {
    "name": "ipython",
    "version": 3
   },
   "file_extension": ".py",
   "mimetype": "text/x-python",
   "name": "python",
   "nbconvert_exporter": "python",
   "pygments_lexer": "ipython3",
   "version": "3.13.5"
  }
 },
 "nbformat": 4,
 "nbformat_minor": 5
}
