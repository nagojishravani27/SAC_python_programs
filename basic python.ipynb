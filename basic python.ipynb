{
 "cells": [
  {
   "cell_type": "code",
   "execution_count": 5,
   "id": "7fb8f037-41bd-4629-bea1-cf1cd5e959a9",
   "metadata": {},
   "outputs": [
    {
     "name": "stdout",
     "output_type": "stream",
     "text": [
      "<class 'int'>\n",
      "<class 'str'>\n"
     ]
    }
   ],
   "source": [
    "x=5\n",
    "y=\"AI-B\"\n",
    "print(type(x))\n",
    "print(type(y))"
   ]
  },
  {
   "cell_type": "code",
   "execution_count": 7,
   "id": "bc36ae73-fb1d-4020-b7fa-7e9d3f7f3bce",
   "metadata": {},
   "outputs": [
    {
     "name": "stdout",
     "output_type": "stream",
     "text": [
      "awesome\n",
      "<class 'str'>\n",
      "<class 'str'>\n",
      "<class 'str'>\n"
     ]
    }
   ],
   "source": [
    "x=\"awesome\"\n",
    "print(x)\n",
    "y='good'\n",
    "z='a'\n",
    "print(type(x)),\n",
    "print(type(y))\n",
    "print(type(z))"
   ]
  },
  {
   "cell_type": "code",
   "execution_count": 8,
   "id": "8f7e38d0-2a12-42ba-b8ef-11aa25733ed8",
   "metadata": {},
   "outputs": [
    {
     "name": "stdout",
     "output_type": "stream",
     "text": [
      "SAC\n",
      "DBMS\n",
      "SEC-IOT\n"
     ]
    }
   ],
   "source": [
    "x,y,z=\"SAC\",\"DBMS\",\"SEC-IOT\"\n",
    "print(x)\n",
    "print(y)\n",
    "print(z)"
   ]
  },
  {
   "cell_type": "code",
   "execution_count": 9,
   "id": "7689c395-6fab-49db-9382-eceb1d0c25eb",
   "metadata": {},
   "outputs": [
    {
     "name": "stdout",
     "output_type": "stream",
     "text": [
      "python is awesome\n"
     ]
    }
   ],
   "source": [
    "x=\"python\"\n",
    "y=\"is\"\n",
    "z=\"awesome\"\n",
    "print(x,y,z)"
   ]
  },
  {
   "cell_type": "code",
   "execution_count": 10,
   "id": "3894fc04-e388-47b8-b969-462d54b61f6f",
   "metadata": {},
   "outputs": [
    {
     "name": "stdout",
     "output_type": "stream",
     "text": [
      "<class 'int'>\n",
      "<class 'float'>\n"
     ]
    }
   ],
   "source": [
    "x=5\n",
    "print(type(x))\n",
    "y=5.5\n",
    "print(type(y))"
   ]
  },
  {
   "cell_type": "code",
   "execution_count": 11,
   "id": "e25a6d65-a8b3-4e21-8e5f-8d8d93a66dbf",
   "metadata": {},
   "outputs": [
    {
     "name": "stdout",
     "output_type": "stream",
     "text": [
      "<class 'complex'>\n"
     ]
    }
   ],
   "source": [
    "z=2+3j\n",
    "print(type(z))"
   ]
  },
  {
   "cell_type": "code",
   "execution_count": null,
   "id": "fac5a1b6-ea5e-4e3b-afca-f6b0ef46a0f4",
   "metadata": {},
   "outputs": [],
   "source": [
    "is_student=True\n",
    "print(type(is_student))"
   ]
  },
  {
   "cell_type": "code",
   "execution_count": 12,
   "id": "8b8787ab-2524-4258-86af-8a7fb1602851",
   "metadata": {},
   "outputs": [
    {
     "name": "stdout",
     "output_type": "stream",
     "text": [
      "<class 'bool'>\n"
     ]
    }
   ],
   "source": [
    "is_emp=False\n",
    "print(type(is_emp))"
   ]
  },
  {
   "cell_type": "code",
   "execution_count": 13,
   "id": "de22c49a-3215-4fd4-a25b-6b558e84c709",
   "metadata": {},
   "outputs": [
    {
     "name": "stdout",
     "output_type": "stream",
     "text": [
      "<class 'str'>\n",
      "hi there\n",
      "how are u?\n"
     ]
    }
   ],
   "source": [
    "subject_name=\"statistical analytics and computing using python\"\n",
    "print(type(subject_name))\n",
    "x=\"\"\"hi there\n",
    "how are u?\"\"\"\n",
    "print(x)"
   ]
  },
  {
   "cell_type": "code",
   "execution_count": 16,
   "id": "2d26f800-902d-4962-bb49-4b5ae05386bb",
   "metadata": {},
   "outputs": [
    {
     "name": "stdin",
     "output_type": "stream",
     "text": [
      "what is ur passion? hacking\n",
      "enter ur name shravani\n"
     ]
    },
    {
     "name": "stdout",
     "output_type": "stream",
     "text": [
      "hi i am shravani and hacking is my passion\n"
     ]
    }
   ],
   "source": [
    "passion=input(\"what is ur passion?\")\n",
    "name=input(\"enter ur name\")\n",
    "print(\"hi i am {0} and {1} is my passion\".format(name,passion))"
   ]
  },
  {
   "cell_type": "code",
   "execution_count": 18,
   "id": "a1e1e8d0-a8c2-462b-bceb-ac095314eb71",
   "metadata": {},
   "outputs": [
    {
     "name": "stdin",
     "output_type": "stream",
     "text": [
      "enter the value a: 2\n",
      "enter the value b: 3\n"
     ]
    },
    {
     "name": "stdout",
     "output_type": "stream",
     "text": [
      "5\n"
     ]
    }
   ],
   "source": [
    "a=int(input(\"enter the value a:\"))\n",
    "b=int(input(\"enter the value b:\"))\n",
    "print(a+b)\n"
   ]
  }
 ],
 "metadata": {
  "kernelspec": {
   "display_name": "Python [conda env:base] *",
   "language": "python",
   "name": "conda-base-py"
  },
  "language_info": {
   "codemirror_mode": {
    "name": "ipython",
    "version": 3
   },
   "file_extension": ".py",
   "mimetype": "text/x-python",
   "name": "python",
   "nbconvert_exporter": "python",
   "pygments_lexer": "ipython3",
   "version": "3.13.5"
  }
 },
 "nbformat": 4,
 "nbformat_minor": 5
}
